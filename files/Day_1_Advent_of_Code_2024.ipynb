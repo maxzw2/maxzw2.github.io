{
  "nbformat": 4,
  "nbformat_minor": 0,
  "metadata": {
    "colab": {
      "provenance": []
    },
    "kernelspec": {
      "name": "python3",
      "display_name": "Python 3"
    },
    "language_info": {
      "name": "python"
    }
  },
  "cells": [
    {
      "cell_type": "code",
      "source": [
        "#mounting Google Drive to access files\n",
        "from google.colab import drive\n",
        "drive.mount('/content/gdrive')\n",
        "folder_path = '/content/gdrive/MyDrive/Colab Notebooks/AoC_2024/'"
      ],
      "metadata": {
        "colab": {
          "base_uri": "https://localhost:8080/"
        },
        "id": "DV_z-QLG3KEJ",
        "outputId": "6941d4cb-ac1a-4426-88ad-4264fb245e4f"
      },
      "execution_count": null,
      "outputs": [
        {
          "output_type": "stream",
          "name": "stdout",
          "text": [
            "Mounted at /content/gdrive\n"
          ]
        }
      ]
    },
    {
      "cell_type": "code",
      "execution_count": null,
      "metadata": {
        "id": "xWwyqhllqfMb",
        "colab": {
          "base_uri": "https://localhost:8080/"
        },
        "outputId": "a6c41639-0536-4529-c749-810ed0eccba3"
      },
      "outputs": [
        {
          "output_type": "execute_result",
          "data": {
            "text/plain": [
              "1938424"
            ]
          },
          "metadata": {},
          "execution_count": 24
        }
      ],
      "source": [
        "#Day 1 Part 1 Outline\n",
        "def calculate_total_difference(fname: str) -> int:\n",
        "    \"\"\"\n",
        "    Calculates the total difference between numbers in two, same-size lists.\n",
        "\n",
        "    Compares the smallest numbers in both lists, the second smallest in both\n",
        "    lists, etc, taking the absolute difference\n",
        "\n",
        "    The total difference is the sum of each individual difference\n",
        "\n",
        "    Input consists of two columns of integers, with 3 spaces separating each list\n",
        "\n",
        "    Files must be in the folder_path:\n",
        "        '/content/drive/MyDrive/Colab Notebooks/AoC_2024/'\n",
        "\n",
        "    Args:\n",
        "        fname (str):    A string representing the input file name\n",
        "\n",
        "    Returns:\n",
        "        total_difference (int):   An integer representing the total difference of the lists\n",
        "\n",
        "    Examples:\n",
        "    >>> calculate_total_difference('D1_P1.txt')\n",
        "        (int number here)\n",
        "    \"\"\"\n",
        "    #open up file and use split() to separate into 2 lists\n",
        "        ##need to convert into int\n",
        "    with open(folder_path + fname, 'r') as file:\n",
        "        lines = file.readlines()\n",
        "    cleaned_lines = [line.strip().split(\"   \") for line in lines]\n",
        "\n",
        "    list_1 = []\n",
        "    list_2 = []\n",
        "\n",
        "    for line in cleaned_lines:\n",
        "        list_1.append(int(line[0]))\n",
        "        list_2.append(int(line[1]))\n",
        "\n",
        "    #sort the list after converted to int\n",
        "\n",
        "    list_1 = sorted(list_1)\n",
        "    list_2 = sorted(list_2)\n",
        "\n",
        "    total_difference = 0\n",
        "\n",
        "    for index, num in enumerate(list_1):\n",
        "        total_difference += abs(num - list_2[index])\n",
        "\n",
        "    return total_difference\n",
        "calculate_total_difference('D1_P1.txt')"
      ]
    },
    {
      "cell_type": "code",
      "source": [
        "#Day 1 Part 2\n",
        "def find_similarity_score(fname: str) -> int:\n",
        "    \"\"\"\n",
        "    Finds how often numbers in the left list appears in the right list,\n",
        "    multiplying by the number of times it is found and calculating a total sum\n",
        "\n",
        "    Each number in the left list is compared, even if it is repeated\n",
        "\n",
        "    Input consists of two columns of integers, with 3 spaces separating each\n",
        "    left or right list\n",
        "\n",
        "    Files must be in the folder_path:\n",
        "        '/content/drive/MyDrive/Colab Notebooks/AoC_2024/'\n",
        "\n",
        "    Args:\n",
        "        fname (str):    A string representing the input file name\n",
        "\n",
        "    Returns:\n",
        "        total_sum (int):   An integer representing the total sum of the left\n",
        "                           side numbers, multiplied by their frequency\n",
        "\n",
        "    Examples:\n",
        "    >>> find_similarity_score('D1_P1.txt')\n",
        "        (int number here)\n",
        "    \"\"\"\n",
        "    with open(folder_path + fname, 'r') as file:\n",
        "        lines = file.readlines()\n",
        "    cleaned_lines = [line.strip().split(\"   \") for line in lines]\n",
        "\n",
        "    list_1 = []\n",
        "    list_2 = []\n",
        "\n",
        "    for line in cleaned_lines:\n",
        "        list_1.append(int(line[0]))\n",
        "        list_2.append(int(line[1]))\n",
        "\n",
        "    total_sum = 0\n",
        "\n",
        "    for num in list_1:\n",
        "        num_repeats = list_2.count(num)\n",
        "        total_sum += num * num_repeats\n",
        "\n",
        "    return total_sum\n",
        "find_similarity_score('D1_P1.txt')"
      ],
      "metadata": {
        "colab": {
          "base_uri": "https://localhost:8080/"
        },
        "id": "1puk9NAEEcDE",
        "outputId": "7ee369d1-1622-4f18-ccf0-59b5bb16ac54"
      },
      "execution_count": null,
      "outputs": [
        {
          "output_type": "execute_result",
          "data": {
            "text/plain": [
              "22014209"
            ]
          },
          "metadata": {},
          "execution_count": 26
        }
      ]
    }
  ]
}