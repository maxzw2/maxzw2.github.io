{
  "nbformat": 4,
  "nbformat_minor": 0,
  "metadata": {
    "colab": {
      "provenance": []
    },
    "kernelspec": {
      "name": "python3",
      "display_name": "Python 3"
    },
    "language_info": {
      "name": "python"
    }
  },
  "cells": [
    {
      "cell_type": "code",
      "source": [
        "#mounting Google Drive to access files\n",
        "from google.colab import drive\n",
        "drive.mount('/content/gdrive')\n",
        "folder_path = '/content/gdrive/MyDrive/Colab Notebooks/AoC_2024/'"
      ],
      "metadata": {
        "colab": {
          "base_uri": "https://localhost:8080/"
        },
        "id": "DV_z-QLG3KEJ",
        "outputId": "e4db6689-fa69-4034-82fb-42f4153ed770"
      },
      "execution_count": null,
      "outputs": [
        {
          "output_type": "stream",
          "name": "stdout",
          "text": [
            "Mounted at /content/gdrive\n"
          ]
        }
      ]
    },
    {
      "cell_type": "code",
      "source": [
        "#Day 2 Part 1\n",
        "def check_safety(fname: str) -> int:\n",
        "    \"\"\"\n",
        "    Checks if a list of integers is all increasing or decreasing and each\n",
        "    consecutive integer differs by at least 1 but at most 3\n",
        "\n",
        "    Counts the total number of valid cases\n",
        "\n",
        "    Input consists of multiple rows of integers, with each row representing the\n",
        "    list of integers to check. Each integer is separated by a space.\n",
        "\n",
        "    Files must be in the folder_path:\n",
        "        '/content/gdrive/MyDrive/Colab Notebooks/AoC_2024'\n",
        "\n",
        "    Args:\n",
        "        fname (str):    A string representing the input file name\n",
        "\n",
        "    Returns:\n",
        "        safe_num (int):   An integer representing the number of safe reports\n",
        "\n",
        "    Examples:\n",
        "    >>> check_safety('D2_P1.txt')\n",
        "        321\n",
        "    \"\"\"\n",
        "    #split each line into a list\n",
        "    with open(folder_path + fname, 'r') as file:\n",
        "        lines = file.readlines()\n",
        "    lines = [line.strip().split() for line in lines]\n",
        "\n",
        "    safe_num = 0\n",
        "    for line in lines:\n",
        "\n",
        "        #find the differences between each adjacent integer\n",
        "        differences = []\n",
        "        for i in range(len(line) - 1):\n",
        "            diff = int(line[i + 1]) - int(line[i])\n",
        "            differences.append(diff)\n",
        "\n",
        "        #set conversion, all valid differences must either be the set or subset\n",
        "        if set(differences) <= {1, 2, 3} or set(differences) <= {-1, -2, -3}:\n",
        "            safe_num += 1\n",
        "\n",
        "    return safe_num\n",
        "check_safety('D2_P1.txt')"
      ],
      "metadata": {
        "id": "onoHSzb5qjTb",
        "colab": {
          "base_uri": "https://localhost:8080/"
        },
        "outputId": "795e41c5-0253-4cfe-a6fe-7bd24bbc4366"
      },
      "execution_count": null,
      "outputs": [
        {
          "output_type": "execute_result",
          "data": {
            "text/plain": [
              "321"
            ]
          },
          "metadata": {},
          "execution_count": 50
        }
      ]
    },
    {
      "cell_type": "code",
      "source": [
        "#Day 2 Part 2\n",
        "def check_safety(fname: str) -> int:\n",
        "    \"\"\"\n",
        "    Checks if a list of integers is all increasing or decreasing and each\n",
        "    consecutive integer differs by at least 1 but at most 3 -- However, if\n",
        "    removing one integer from the list makes it valid, those cases are included\n",
        "\n",
        "    Counts the total number of valid cases\n",
        "\n",
        "    Input consists of multiple rows of integers, with each row representing the\n",
        "    list of integers to check. Each integer is separated by a space.\n",
        "\n",
        "    Files must be in the folder_path:\n",
        "        '/content/gdrive/MyDrive/Colab Notebooks/AoC_2024'\n",
        "\n",
        "    Args:\n",
        "        fname (str):    A string representing the input file name\n",
        "\n",
        "    Returns:\n",
        "        safe_num (int):   An integer representing the number of safe reports\n",
        "\n",
        "    Examples:\n",
        "    >>> check_safety('D2_P1.txt')\n",
        "        386\n",
        "    \"\"\"\n",
        "    #split each line into a list\n",
        "    with open(folder_path + fname, 'r') as file:\n",
        "        lines = file.readlines()\n",
        "    lines = [line.strip().split() for line in lines]\n",
        "\n",
        "    safe_num = 0\n",
        "\n",
        "    for line in lines:\n",
        "\n",
        "        #find the differences between each adjacent integer\n",
        "        differences = []\n",
        "        for i in range(len(line) - 1):\n",
        "            diff = int(line[i + 1]) - int(line[i])\n",
        "            differences.append(diff)\n",
        "\n",
        "        if set(differences) <= {1, 2, 3} or set(differences) <= {-1, -2, -3}:\n",
        "            safe_num += 1\n",
        "\n",
        "        else:\n",
        "            for i in range(len(line)):\n",
                         #test out every possibility of outliers, since input is small
                              #enough to handle
        "                copy_line = line.copy()\n",
        "                del copy_line[i]\n",
        "\n",
        "                alt_differences = []\n",
        "                for i in range(len(copy_line) - 1):\n",
        "                    alt_diff = int(copy_line[i + 1]) - int(copy_line[i])\n",
        "                    alt_differences.append(alt_diff)\n",
        "\n",
        "                if set(alt_differences) <= {1, 2, 3} or set(alt_differences) <= {-1, -2, -3}:\n",
        "                    safe_num += 1\n",
        "                    break\n",
        "\n",
        "    return safe_num\n",
        "check_safety('D2_P1.txt')"
      ],
      "metadata": {
        "colab": {
          "base_uri": "https://localhost:8080/"
        },
        "id": "73cDc23XOzlW",
        "outputId": "583ba418-c791-4d95-f1e3-ee97ceb76092"
      },
      "execution_count": null,
      "outputs": [
        {
          "output_type": "execute_result",
          "data": {
            "text/plain": [
              "386"
            ]
          },
          "metadata": {},
          "execution_count": 79
        }
      ]
    }
  ]
}
