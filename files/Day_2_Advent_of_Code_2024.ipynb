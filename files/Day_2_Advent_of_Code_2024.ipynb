{
  "nbformat": 4,
  "nbformat_minor": 0,
  "metadata": {
    "colab": {
      "provenance": []
    },
    "kernelspec": {
      "name": "python3",
      "display_name": "Python 3"
    },
    "language_info": {
      "name": "python"
    }
  },
  "cells": [
    {
      "cell_type": "code",
      "source": [
        "#mounting Google Drive to access files\n",
        "from google.colab import drive\n",
        "drive.mount('/content/gdrive')\n",
        "folder_path = '/content/gdrive/MyDrive/Colab Notebooks/AoC_2024/'"
      ],
      "metadata": {
        "colab": {
          "base_uri": "https://localhost:8080/"
        },
        "id": "DV_z-QLG3KEJ",
        "outputId": "f5cab1fc-7ba5-4386-8f1d-e76daed80f8f"
      },
      "execution_count": null,
      "outputs": [
        {
          "output_type": "stream",
          "name": "stdout",
          "text": [
            "Mounted at /content/gdrive\n"
          ]
        }
      ]
    },
    {
      "cell_type": "code",
      "source": [
        "#Day 2 Outline\n",
        "def check_safety(fname: str) -> int:\n",
        "    \"\"\"\n",
        "    Checks if a list of integers is all increasing or decreasing and each\n",
        "    consecutive integer differs by at least 1 but at most 3\n",
        "\n",
        "    Counts the total number of valid cases\n",
        "\n",
        "    Input consists of multiple rows of integers, with each row representing the\n",
        "    list of integers to check. Each integer is separated by a space.\n",
        "\n",
        "    Files must be in the folder_path:\n",
        "        '/content/drive/MyDrive/Colab Notebooks/AoC_2024'\n",
        "\n",
        "    Args:\n",
        "        fname (str):    A string representing the input file name\n",
        "\n",
        "    Returns:\n",
        "        safe_num (int):   An integer representing the number of safe reports\n",
        "\n",
        "    Examples:\n",
        "    >>> check_safety('D2_P1.txt')\n",
        "        (int number here)\n",
        "    \"\"\"\n",
        "    #split each line into a list\n",
        "    with open(folder_path + fname, 'r') as file:\n",
        "        lines = file.readlines()\n",
        "    lines = [line.strip().split() for line in lines]\n",
        "\n",
        "    safe_num = 0\n",
        "    for line in lines:\n",
        "\n",
        "        #find the differences between each adjacent integer\n",
        "        differences = []\n",
        "        for i in range(len(line) - 1):\n",
        "            diff = int(line[i + 1]) - int(line[i])\n",
        "            differences.append(diff)\n",
        "\n",
        "        #set conversion, all valid differences must either be the set or subset\n",
        "        if set(differences) <= {1, 2, 3} or set(differences) <= {-1, -2, -3}:\n",
        "            safe_num += 1\n",
        "\n",
        "    return safe_num\n",
        "check_safety('D2_P1.txt')"
      ],
      "metadata": {
        "id": "onoHSzb5qjTb",
        "colab": {
          "base_uri": "https://localhost:8080/"
        },
        "outputId": "795e41c5-0253-4cfe-a6fe-7bd24bbc4366"
      },
      "execution_count": null,
      "outputs": [
        {
          "output_type": "execute_result",
          "data": {
            "text/plain": [
              "321"
            ]
          },
          "metadata": {},
          "execution_count": 50
        }
      ]
    },
    {
      "cell_type": "code",
      "source": [
        "#Day 2 Part 2 Outline\n",
        "def check_safety_p2(fname: str) -> int:\n",
        "    \"\"\"\n",
        "    Checks if a list of integers is all increasing or decreasing and each\n",
        "    consecutive integer differs by at least 1 but at most 3 -- However, if\n",
        "    removing one integer from the list makes it valid, those cases are included\n",
        "\n",
        "    Counts the total number of valid cases\n",
        "\n",
        "    Input consists of multiple rows of integers, with each row representing the\n",
        "    list of integers to check. Each integer is separated by a space.\n",
        "\n",
        "    Files must be in the folder_path:\n",
        "        '/content/drive/MyDrive/Colab Notebooks/AoC_2024'\n",
        "\n",
        "    Args:\n",
        "        fname (str):    A string representing the input file name\n",
        "\n",
        "    Returns:\n",
        "        safe_num (int):   An integer representing the number of safe reports\n",
        "\n",
        "    Examples:\n",
        "    >>> check_safety('D2_P1.txt')\n",
        "        (int number here)\n",
        "    \"\"\"\n",
        "    #split each line into a list\n",
        "    with open(folder_path + fname, 'r') as file:\n",
        "        lines = file.readlines()\n",
        "    lines = [line.strip().split() for line in lines]\n",
        "\n",
        "    safe_num = 0\n",
        "\n",
        "    for line in lines:\n",
        "\n",
        "        #find the differences between each adjacent integer\n",
        "        differences = []\n",
        "        for i in range(len(line) - 1):\n",
        "            diff = int(line[i + 1]) - int(line[i])\n",
        "            differences.append(diff)\n",
        "\n",
        "        if set(differences) <= {1, 2, 3} or set(differences) <= {-1, -2, -3}:\n",
        "            safe_num += 1\n",
        "\n",
        "        else:\n",
        "            #brute-force check for valid removal cases\n",
        "            for i in range(len(line)):\n",
        "                copy_line = line.copy()\n",
        "                del copy_line[i]\n",
        "\n",
        "                alt_differences = []\n",
        "                for i in range(len(copy_line) - 1):\n",
        "                    alt_diff = int(copy_line[i + 1]) - int(copy_line[i])\n",
        "                    alt_differences.append(alt_diff)\n",
        "\n",
        "                if set(alt_differences) <= {1, 2, 3} or set(alt_differences) <= {-1, -2, -3}:\n",
        "                    safe_num += 1\n",
        "                    break\n",
        "\n",
        "    return safe_num\n",
        "check_safety_p2('D2_P1.txt')"
      ],
      "metadata": {
        "colab": {
          "base_uri": "https://localhost:8080/",
          "height": 297
        },
        "id": "73cDc23XOzlW",
        "outputId": "077eb0b3-af23-4a79-dc3f-274b2e4c47e4"
      },
      "execution_count": 1,
      "outputs": [
        {
          "output_type": "error",
          "ename": "NameError",
          "evalue": "name 'folder_path' is not defined",
          "traceback": [
            "\u001b[0;31m---------------------------------------------------------------------------\u001b[0m",
            "\u001b[0;31mNameError\u001b[0m                                 Traceback (most recent call last)",
            "\u001b[0;32m<ipython-input-1-1bd278f311a0>\u001b[0m in \u001b[0;36m<cell line: 60>\u001b[0;34m()\u001b[0m\n\u001b[1;32m     58\u001b[0m \u001b[0;34m\u001b[0m\u001b[0m\n\u001b[1;32m     59\u001b[0m     \u001b[0;32mreturn\u001b[0m \u001b[0msafe_num\u001b[0m\u001b[0;34m\u001b[0m\u001b[0;34m\u001b[0m\u001b[0m\n\u001b[0;32m---> 60\u001b[0;31m \u001b[0mcheck_safety_p2\u001b[0m\u001b[0;34m(\u001b[0m\u001b[0;34m'D2_P1.txt'\u001b[0m\u001b[0;34m)\u001b[0m\u001b[0;34m\u001b[0m\u001b[0;34m\u001b[0m\u001b[0m\n\u001b[0m",
            "\u001b[0;32m<ipython-input-1-1bd278f311a0>\u001b[0m in \u001b[0;36mcheck_safety_p2\u001b[0;34m(fname)\u001b[0m\n\u001b[1;32m     25\u001b[0m     \"\"\"\n\u001b[1;32m     26\u001b[0m     \u001b[0;31m#split each line into a list\u001b[0m\u001b[0;34m\u001b[0m\u001b[0;34m\u001b[0m\u001b[0m\n\u001b[0;32m---> 27\u001b[0;31m     \u001b[0;32mwith\u001b[0m \u001b[0mopen\u001b[0m\u001b[0;34m(\u001b[0m\u001b[0mfolder_path\u001b[0m \u001b[0;34m+\u001b[0m \u001b[0mfname\u001b[0m\u001b[0;34m,\u001b[0m \u001b[0;34m'r'\u001b[0m\u001b[0;34m)\u001b[0m \u001b[0;32mas\u001b[0m \u001b[0mfile\u001b[0m\u001b[0;34m:\u001b[0m\u001b[0;34m\u001b[0m\u001b[0;34m\u001b[0m\u001b[0m\n\u001b[0m\u001b[1;32m     28\u001b[0m         \u001b[0mlines\u001b[0m \u001b[0;34m=\u001b[0m \u001b[0mfile\u001b[0m\u001b[0;34m.\u001b[0m\u001b[0mreadlines\u001b[0m\u001b[0;34m(\u001b[0m\u001b[0;34m)\u001b[0m\u001b[0;34m\u001b[0m\u001b[0;34m\u001b[0m\u001b[0m\n\u001b[1;32m     29\u001b[0m     \u001b[0mlines\u001b[0m \u001b[0;34m=\u001b[0m \u001b[0;34m[\u001b[0m\u001b[0mline\u001b[0m\u001b[0;34m.\u001b[0m\u001b[0mstrip\u001b[0m\u001b[0;34m(\u001b[0m\u001b[0;34m)\u001b[0m\u001b[0;34m.\u001b[0m\u001b[0msplit\u001b[0m\u001b[0;34m(\u001b[0m\u001b[0;34m)\u001b[0m \u001b[0;32mfor\u001b[0m \u001b[0mline\u001b[0m \u001b[0;32min\u001b[0m \u001b[0mlines\u001b[0m\u001b[0;34m]\u001b[0m\u001b[0;34m\u001b[0m\u001b[0;34m\u001b[0m\u001b[0m\n",
            "\u001b[0;31mNameError\u001b[0m: name 'folder_path' is not defined"
          ]
        }
      ]
    }
  ]
}