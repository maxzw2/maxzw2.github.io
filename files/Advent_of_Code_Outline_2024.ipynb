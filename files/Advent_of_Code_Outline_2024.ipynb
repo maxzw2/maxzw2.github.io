{
  "nbformat": 4,
  "nbformat_minor": 0,
  "metadata": {
    "colab": {
      "provenance": []
    },
    "kernelspec": {
      "name": "python3",
      "display_name": "Python 3"
    },
    "language_info": {
      "name": "python"
    }
  },
  "cells": [
    {
      "cell_type": "code",
      "source": [
        "#mounting Google Drive to access files\n",
        "from google.colab import drive\n",
        "drive.mount('/content/gdrive')\n",
        "folder_path = '/content/gdrive/MyDrive/Colab Notebooks/AoC_2024/'"
      ],
      "metadata": {
        "colab": {
          "base_uri": "https://localhost:8080/"
        },
        "id": "DV_z-QLG3KEJ",
        "outputId": "da940c03-85ca-4f6a-a82b-407dc7cd5ccd"
      },
      "execution_count": null,
      "outputs": [
        {
          "output_type": "stream",
          "name": "stdout",
          "text": [
            "Mounted at /content/gdrive\n"
          ]
        }
      ]
    },
    {
      "cell_type": "code",
      "execution_count": null,
      "metadata": {
        "id": "xWwyqhllqfMb"
      },
      "outputs": [],
      "source": [
        "#Day 1 Outline\n",
        "def calculate_total_difference(fname: str) -> int:\n",
        "    \"\"\"\n",
        "    Calculates the total difference between numbers in two, same-size lists.\n",
        "\n",
        "    Compares the smallest numbers in both lists, the second smallest in both\n",
        "    lists, etc, taking the absolute difference\n",
        "\n",
        "    The total difference is the sum of each individual difference\n",
        "\n",
        "    Input consists of two columns of integers, with 3 spaces separating each list\n",
        "\n",
        "    Files must be in the folder_path:\n",
        "        '/content/gdrive/MyDrive/Colab Notebooks/AoC_2024/'\n",
        "\n",
        "    Args:\n",
        "        fname (str):    A string representing the input file name\n",
        "\n",
        "    Returns:\n",
        "        total_diff (int):   An integer representing the total difference of the lists\n",
        "\n",
        "    Examples:\n",
        "    >>> calculate_total_difference('D1_P1.txt')\n",
        "        (int number here)\n",
        "    \"\"\"\n",
        "    #open up file and use split() to separate into 2 lists\n",
        "        ##need to convert into int\n",
        "    #sort the list after converted to int\n",
        "    #using enumerate(), take the absolute difference between the two values\n",
        "    #return the running total"
      ]
    },
    {
      "cell_type": "code",
      "source": [
        "#Day 2 Outline\n",
        "def check_safety(fname: str) -> int:\n",
        "    \"\"\"\n",
        "    Checks if a list of integers is all increasing or decreasing and each\n",
        "    consecutive integer differs by at least 1 but at most 3\n",
        "\n",
        "    Input consists of multiple rows of integers, with each row representing the\n",
        "    list of integers to check. Each integer is separated by a space.\n",
        "\n",
        "    Files must be in the folder_path:\n",
        "        '/content/gdrive/MyDrive/Colab Notebooks/AoC_2024/'\n",
        "\n",
        "    Args:\n",
        "        fname (str):    A string representing the input file name\n",
        "\n",
        "    Returns:\n",
        "        safe_num (int):   An integer representing the number of safe reports\n",
        "\n",
        "    Examples:\n",
        "    >>> check_safety('D2_P1.txt')\n",
        "        (int number here)\n",
        "    \"\"\"\n",
        "    #split each line into a list\n",
        "    #find the differences between each adjacent integer\n",
        "    #using all() for the list of differences, check if all are pos/neg\n",
        "    #if true, continue to check that all differences are less than or equal to 3\n",
        "        #case where difference is 0 is ruled out by pos/neg check\n",
        "    #add to counter for valid lists"
      ],
      "metadata": {
        "id": "onoHSzb5qjTb"
      },
      "execution_count": null,
      "outputs": []
    },
    {
      "cell_type": "code",
      "source": [
        "#Day 3 Outline\n",
        "def sum_multiplication(fname: str) -> int:\n",
        "    \"\"\"\n",
        "    Finds all characters in the exact format \"mul(X,Y)\", multiplies X and Y\n",
        "    together, then sums all multiplications togehter.\n",
        "\n",
        "    X and Y must be 1-3 digit integers\n",
        "\n",
        "    Input consists of multiple lines of jumbled text, with \"mul(X,Y)\" appearing.\n",
        "\n",
        "    Files must be in the folder_path:\n",
        "        '/content/gdrive/MyDrive/Colab Notebooks/AoC_2024/'\n",
        "\n",
        "    Args:\n",
        "        fname (str):    A string representing the input file name\n",
        "\n",
        "    Returns:\n",
        "        sum (int):   An integer representing the sum of all valid multiplications\n",
        "\n",
        "    Examples:\n",
        "    >>> sum_multiplication('D3_P1.txt')\n",
        "        (int number here)\n",
        "    \"\"\"\n",
        "    #read the file into lines (no formatting, since the input is gibberish)\n",
        "    #use regex (regular expression, re) module to find all patterns\n",
        "    #pattern should be (based on quick look at documentation) something like:\n",
        "        #r'mul\\((\\d{1,3}),(\\d{1,3})\\)'\n",
        "            #r'' encloses all of our string statement\n",
        "            #must place backslash before () to specify the actual character\n",
        "            #\\d looks for any decimal integer between 0-9\n",
        "                #{1, 3} modifies \\d to require 1-3 decimal integers between 0-9\n",
        "    #add to a running total"
      ],
      "metadata": {
        "id": "Cm5o9p40qkna"
      },
      "execution_count": null,
      "outputs": []
    },
    {
      "cell_type": "code",
      "source": [
        "#Day 4 Outline\n",
        "#likely will need to make 3 other functions:\n",
        "    #check horizontal\n",
        "    #check vertical\n",
        "    #check diagonal\n",
        "def find_total_xmas(fname: str) -> int:\n",
        "    \"\"\"\n",
        "    Finds the amount of times \"XMAS\" or \"SAMX\" appears, either horizontally,\n",
        "    vertically, or diagonally\n",
        "\n",
        "    Files must be in the folder_path:\n",
        "        '/content/gdrive/MyDrive/Colab Notebooks/AoC_2024/'\n",
        "\n",
        "    Args:\n",
        "        fname (str):    A string representing the input file name\n",
        "\n",
        "    Returns:\n",
        "        total_times (int):   An integer representing the times \"XMAS\" or \"SAMX\"\n",
        "                             (spelled backwards) appears\n",
        "\n",
        "    Examples:\n",
        "    >>> find_total_xmas('D4_P1.txt')\n",
        "        (int number here)\n",
        "    \"\"\"\n",
        "    #call check horizontal, vertical, diagonal\n",
        "    #add up the sum\n",
        "\n",
        "# For check_horizontal, slice each line multiple times and check whether it\n",
        "    #matches up with \"XMAS\" or \"SAMX\"\n",
        "# For check_vertical, slice in column-major order and then the same as horizontal\n",
        "# For check_diagonal, more likely bruteforce slicing until reaching the end of\n",
        "    #the grid, but searching first for \"X\" or \"S\"\n",
        "\n",
        "# Alternatively, could create backwards separately, and code in different letter\n",
        "    # capability, to make things simpler (or more complex, will need to see when\n",
        "    # working with it)"
      ],
      "metadata": {
        "id": "2lCEkqSUqltH"
      },
      "execution_count": null,
      "outputs": []
    },
    {
      "cell_type": "code",
      "source": [
        "#Day 5 Outline\n",
        "def check_order(fname: str) -> int:\n",
        "    \"\"\"\n",
        "    Determines if lists of integers are in the right order depending on rules\n",
        "    defining which numbers should be before or after each other\n",
        "\n",
        "    Finds the sum of the middle values of valid lists\n",
        "\n",
        "    Input is in 2 parts: 1st part is rules, with 2 integers separated by a \"|\"\n",
        "    and the other part is updates, with rows of integers separated by commas\n",
        "\n",
        "    Files must be in the folder_path:\n",
        "        '/content/gdrive/MyDrive/Colab Notebooks/AoC_2024/'\n",
        "\n",
        "    Args:\n",
        "        fname (str):    A string representing the input file name\n",
        "\n",
        "    Returns:\n",
        "        valid_sum (int):   An integer representing the sum of the middle values\n",
        "                           of valid lists\n",
        "\n",
        "    Examples:\n",
        "    >>> check_order('D5_P1.txt')\n",
        "        (int number here)\n",
        "    \"\"\"\n",
        "    #one of the issues is that the rules are not sorted and do not necessarily\n",
        "        #insist on an order -- need to sort the list in a way based on the rules\n",
        "        #make a collection with all of the rules is the first step, but the next\n",
        "        #is the issue of finding the right one to apply and check the list with\n",
        "    #based on sorted() documentation, a key should probably be used to organize\n",
        "    #the rules, and create a sorted list & compare with original\n",
        "        #it allows for unique definitions to sort, perfect for our case\n",
        "    #using functools cmp_to_key can create own definition of comparison that is\n",
        "        #turned into a key\n",
        "    #grab two values, see if they are in the rules (split into tuples?)\n",
        "        #return -1 if first value should be before\n",
        "        #can also do 1 if the first value should be after (opposite)\n",
        "        #no rule should have an equality\n",
        "    #add middle value of valid lists to running total"
      ],
      "metadata": {
        "id": "aiefrwLZqmkS"
      },
      "execution_count": null,
      "outputs": []
    }
  ]
}
