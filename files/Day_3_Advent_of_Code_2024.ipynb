{
  "nbformat": 4,
  "nbformat_minor": 0,
  "metadata": {
    "colab": {
      "provenance": []
    },
    "kernelspec": {
      "name": "python3",
      "display_name": "Python 3"
    },
    "language_info": {
      "name": "python"
    }
  },
  "cells": [
    {
      "cell_type": "code",
      "source": [
        "#mounting Google Drive to access files\n",
        "from google.colab import drive\n",
        "drive.mount('/content/gdrive')\n",
        "folder_path = '/content/gdrive/MyDrive/Colab Notebooks/AoC_2024/'"
      ],
      "metadata": {
        "colab": {
          "base_uri": "https://localhost:8080/"
        },
        "id": "DV_z-QLG3KEJ",
        "outputId": "e4db6689-fa69-4034-82fb-42f4153ed770"
      },
      "execution_count": null,
      "outputs": [
        {
          "output_type": "stream",
          "name": "stdout",
          "text": [
            "Mounted at /content/gdrive\n"
          ]
        }
      ]
    },
    {
      "cell_type": "code",
      "source": [
        "#Day 3 Part 1\n",
        "def sum_multiplication(fname: str) -> int:\n",
        "    \"\"\"\n",
        "    Finds all characters in the exact format \"mul(X,Y)\", multiplies X and Y\n",
        "    together, then sums all multiplications together.\n",
        "\n",
        "    X and Y must be 1-3 digit integers\n",
        "\n",
        "    Input consists of multiple lines of jumbled text, with \"mul(X,Y)\" appearing.\n",
        "\n",
        "    Files must be in the folder_path:\n",
        "        '/content/gdrive/MyDrive/Colab Notebooks/AoC_2024'\n",
        "\n",
        "    Args:\n",
        "        fname (str):    A string representing the input file name\n",
        "\n",
        "    Returns:\n",
        "        sum (int):   An integer representing the sum of all valid multiplications\n",
        "\n",
        "    Examples:\n",
        "    >>> sum_multiplication('D3_P1.txt')\n",
        "        153469856\n",
        "    \"\"\"\n",
        "    import re\n",
        "    #read the file into lines (no formatting, since the input is gibberish)\n",
        "    with open(folder_path + fname, 'r') as file:\n",
        "        lines = file.readlines()\n",
        "    sum = 0\n",
        "\n",
        "    #use regex (regular expression, re) module to find all patterns\n",
        "    pattern = r'mul\\((\\d{1,3}),(\\d{1,3})\\)'\n",
        "\n",
        "    for line in lines:\n",
        "        multiplications = re.findall(pattern, line)\n",
        "        for x, y in multiplications:\n",
        "            sum += int(x) * int(y)\n",
        "\n",
        "    return sum\n",
        "\n",
        "sum_multiplication('D3_P1.txt')"
      ],
      "metadata": {
        "id": "Cm5o9p40qkna",
        "colab": {
          "base_uri": "https://localhost:8080/"
        },
        "outputId": "448c9a32-3ae3-4ebb-aa65-196e12d40245"
      },
      "execution_count": null,
      "outputs": [
        {
          "output_type": "execute_result",
          "data": {
            "text/plain": [
              "153469856"
            ]
          },
          "metadata": {},
          "execution_count": 19
        }
      ]
    },
    {
      "cell_type": "code",
      "source": [
        "#Day 3 Part 2\n",
        "def sum_multiplication(fname: str) -> int:\n",
        "    \"\"\"\n",
        "    Finds all characters in the exact format \"mul(X,Y)\", multiplies X and Y\n",
        "    together, then sums all multiplications together. If there is a don't(),\n",
        "    any mul() statements after it are not included, but are reactivated by do()\n",
        "\n",
        "    X and Y must be 1-3 digit integers\n",
        "\n",
        "    Input consists of multiple lines of jumbled text, with \"mul(X,Y)\" appearing.\n",
        "\n",
        "    Files must be in the folder_path:\n",
        "        '/content/drive/MyDrive/Colab Notebooks/AoC_2024'\n",
        "\n",
        "    Args:\n",
        "        fname (str):    A string representing the input file name\n",
        "\n",
        "    Returns:\n",
        "        sum (int):   An integer representing the sum of all valid multiplications\n",
        "\n",
        "    Examples:\n",
        "    >>> sum_multiplication('D3_P1.txt')\n",
        "        77055967\n",
        "    \"\"\"\n",
        "    import re\n",
        "    #read the file into lines (no formatting, since the input is gibberish)\n",
        "    with open(folder_path + fname, 'r') as file:\n",
        "        lines = file.read()\n",
        "    sum = 0\n",
        "\n",
        "    #use regex (regular expression, re) module to find all patterns\n",
        "    pattern = r'mul\\((\\d{1,3}),(\\d{1,3})\\)'\n",
        "\n",
        "    #isolate all valid input through split()\n",
        "    active_lines = []\n",
        "\n",
        "    do_split = lines.split(\"do()\")\n",
        "    for line in do_split:\n",
        "        #input validity pattern for each segment:\n",
        "            #(\"do()\", split out) \"valid -> don't() -> invalid\" (\"do()\", etc.)\n",
        "        #only grab the valid part\n",
        "        active_lines.append(line.split(\"don't()\")[0])\n",
        "\n",
        "    for a_line in active_lines:\n",
        "        multiplications = re.findall(pattern, a_line)\n",
        "        for x, y in multiplications:\n",
        "            sum += int(x) * int(y)\n",
        "\n",
        "    return sum\n",
        "\n",
        "sum_multiplication('D3_P1.txt')"
      ],
      "metadata": {
        "colab": {
          "base_uri": "https://localhost:8080/"
        },
        "id": "jOcC_-B5aCQI",
        "outputId": "0bd7e0d2-5139-4e61-fc9c-afffd1569b5f"
      },
      "execution_count": null,
      "outputs": [
        {
          "output_type": "execute_result",
          "data": {
            "text/plain": [
              "77055967"
            ]
          },
          "metadata": {},
          "execution_count": 16
        }
      ]
    }
  ]
}